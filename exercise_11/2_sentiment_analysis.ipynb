{
 "cells": [
  {
   "attachments": {},
   "cell_type": "markdown",
   "metadata": {},
   "source": [
    "# Sentiment Analysis\n",
    "\n",
    "Congrats, you finished the part on the data preparation, and we can now move on to a more exciting part of using RNNs/LSTMs to process sequential data! But be careful, even if the previous notebook might seem a little bit boring, it is of great importance. We switched from images to text data in this exercise, and remember the first steps that we did in our class were also data related, and they were essential for all the following exercises. So naturally, since we switched to text data in this exercise, make sure you have a good understanding of how the data has been prepared.\n",
    "\n",
    "For the last I2DL exercise, we want to make use of Recurrent Neural Networks (RNNs) to process sequential data. We will stick with the same dataset we have been looking at in the previous notebook, namely the [IMDb](https://ai.stanford.edu/~amaas/data/sentiment/) sentiment analysis dataset that contains positive and negative movie reviews.\n",
    "\n",
    "<p class=\"aligncenter\">\n",
    "    <img src=\"images/IMDB.jpg\" alt=\"centered image\" />\n",
    "</p>\n",
    "\n",
    "Sentiment analysis is the task of predicting the sentiment of a text. In this notebook, you will train a network to process reviews from the dataset and evaluate whether it has been a positive or a negative review. Below are two examples:\n",
    "\n",
    "<p class=\"aligncenter\">\n",
    "    <img src=\"images/examples.png\" alt=\"centered image\" />\n",
    "</p>\n"
   ]
  },
  {
   "attachments": {},
   "cell_type": "markdown",
   "metadata": {},
   "source": [
    "## (Optional) Mount folder in Colab\n",
    "\n",
    "Uncomment the following cell to mount your gdrive if you are using the notebook in google colab:"
   ]
  },
  {
   "cell_type": "code",
   "execution_count": null,
   "metadata": {},
   "outputs": [],
   "source": [
    "# Use the following lines if you want to use Google Colab\n",
    "# We presume you created a folder \"i2dl\" within your main drive folder, and put the exercise there.\n",
    "# NOTE: terminate all other colab sessions that use GPU!\n",
    "# NOTE 2: Make sure the correct exercise folder (e.g exercise_11) is given.\n",
    "\n",
    "\"\"\"\n",
    "from google.colab import drive\n",
    "import os\n",
    "\n",
    "gdrive_path='/content/gdrive/MyDrive/i2dl/exercise_11'\n",
    "\n",
    "# This will mount your google drive under 'MyDrive'\n",
    "drive.mount('/content/gdrive', force_remount=True)\n",
    "# In order to access the files in this notebook we have to navigate to the correct folder\n",
    "os.chdir(gdrive_path)\n",
    "# Check manually if all files are present\n",
    "print(sorted(os.listdir()))\n",
    "\"\"\""
   ]
  },
  {
   "attachments": {},
   "cell_type": "markdown",
   "metadata": {},
   "source": [
    "### Set up PyTorch environment in colab\n",
    "- (OPTIONAL) Enable GPU via Runtime --> Change runtime type --> GPU\n",
    "- Uncomment the following cell if you are using the notebook in google colab:"
   ]
  },
  {
   "cell_type": "code",
   "execution_count": null,
   "metadata": {},
   "outputs": [],
   "source": [
    "# Optional: install correct libraries in google colab\n",
    "# !python -m pip install torch==1.11.0+cu113 torchvision==0.12.0+cu113 -f https://download.pytorch.org/whl/torch_stable.html\n",
    "# !python -m pip install tensorboard==2.8.0\n",
    "# !python -m pip install pytorch-lightning==1.6.0"
   ]
  },
  {
   "attachments": {},
   "cell_type": "markdown",
   "metadata": {},
   "source": [
    "# 0. Setup\n",
    "\n",
    "As always, we first import some packages to setup the notebook."
   ]
  },
  {
   "cell_type": "code",
   "execution_count": 1,
   "metadata": {},
   "outputs": [],
   "source": [
    "import os\n",
    "import random\n",
    "import matplotlib.pyplot as plt\n",
    "import torch\n",
    "import torch.nn as nn\n",
    "import torch.nn.functional as F\n",
    "from torch.utils.data import DataLoader\n",
    "from torch.nn.utils import clip_grad_norm_\n",
    "\n",
    "from exercise_code.rnn.sentiment_dataset import (\n",
    "    download_data,\n",
    "    load_sentiment_data,\n",
    "    load_vocab,\n",
    "    SentimentDataset,\n",
    "    collate\n",
    ")\n",
    "\n",
    "%matplotlib inline\n",
    "plt.rcParams['figure.figsize'] = (10.0, 8.0) # set default size of plots\n",
    "plt.rcParams['image.interpolation'] = 'nearest'\n",
    "plt.rcParams['image.cmap'] = 'gray'\n",
    "\n",
    "# for auto-reloading external modules\n",
    "# see http://stackoverflow.com/questions/1907993/autoreload-of-modules-in-ipython\n",
    "%load_ext autoreload\n",
    "%autoreload 2\n",
    "\n",
    "os.environ['KMP_DUPLICATE_LIB_OK']='True' # To prevent the kernel from dying."
   ]
  },
  {
   "attachments": {},
   "cell_type": "markdown",
   "metadata": {},
   "source": [
    "# 1. Loading Data\n",
    "\n",
    "As we have learned from the notebook 1, this time we not only load the raw data, but also have the corresponding vocabulary. Let us load the data that we prepared for you:"
   ]
  },
  {
   "cell_type": "code",
   "execution_count": 2,
   "metadata": {},
   "outputs": [
    {
     "name": "stdout",
     "output_type": "stream",
     "text": [
      "number of training samples: 9154\n",
      "number of validation samples: 3133\n",
      "number of test samples: 3083\n"
     ]
    }
   ],
   "source": [
    "i2dl_exercises_path = os.path.dirname(os.path.abspath(os.getcwd()))\n",
    "data_root = os.path.join(i2dl_exercises_path, \"datasets\", \"SentimentData\")\n",
    "base_dir = download_data(data_root)\n",
    "vocab = load_vocab(base_dir)\n",
    "train_data, val_data, test_data = load_sentiment_data(base_dir, vocab)\n",
    "\n",
    "print(\"number of training samples: {}\".format(len(train_data)))\n",
    "print(\"number of validation samples: {}\".format(len(val_data)))\n",
    "print(\"number of test samples: {}\".format(len(test_data)))"
   ]
  },
  {
   "attachments": {},
   "cell_type": "markdown",
   "metadata": {},
   "source": [
    "## Dataset Samples\n",
    "\n",
    "Our raw data consists of tuples `(raw_text, token_list, token_indices, label)`. Let's sample some relatively short texts from our dataset to have a sense how it looks like:"
   ]
  },
  {
   "cell_type": "code",
   "execution_count": 3,
   "metadata": {},
   "outputs": [
    {
     "name": "stdout",
     "output_type": "stream",
     "text": [
      "Text: \n",
      " I wouldn't rent this one even on dollar rental night.\n",
      "\n",
      "Tokens: \n",
      " ['i', 'wouldn', 't', 'rent', 'this', 'one', 'even', 'on', 'dollar', 'rental', 'night']\n",
      "\n",
      "Indices: \n",
      " [7, 555, 23, 414, 10, 27, 64, 25, 2506, 1292, 314]\n",
      "\n",
      "Label:\n",
      " 0\n",
      "\n",
      "\n",
      "Text: \n",
      " Ming The Merciless does a little Bardwork and a movie most foul!\n",
      "\n",
      "Tokens: \n",
      " ['ming', 'the', 'merciless', 'does', 'a', 'little', 'bardwork', 'and', 'a', 'movie', 'most', 'foul']\n",
      "\n",
      "Indices: \n",
      " [1, 2, 1, 142, 3, 121, 1, 4, 3, 13, 99, 2850]\n",
      "\n",
      "Label:\n",
      " 0\n",
      "\n",
      "\n",
      "Text: \n",
      " This is the definitive movie version of Hamlet. Branagh cuts nothing, but there are no wasted moments.\n",
      "\n",
      "Tokens: \n",
      " ['this', 'is', 'the', 'definitive', 'movie', 'version', 'of', 'hamlet', 'branagh', 'cuts', 'nothing', 'but', 'there', 'are', 'no', 'wasted', 'moments']\n",
      "\n",
      "Indices: \n",
      " [10, 9, 2, 1, 13, 304, 5, 2974, 2206, 2865, 151, 17, 44, 28, 62, 628, 385]\n",
      "\n",
      "Label:\n",
      " 1\n",
      "\n",
      "\n",
      "Text: \n",
      " Adrian Pasdar is excellent is this film. He makes a fascinating woman.\n",
      "\n",
      "Tokens: \n",
      " ['adrian', 'pasdar', 'is', 'excellent', 'is', 'this', 'film', 'he', 'makes', 'a', 'fascinating', 'woman']\n",
      "\n",
      "Indices: \n",
      " [4712, 1, 9, 203, 9, 10, 19, 46, 169, 3, 1144, 332]\n",
      "\n",
      "Label:\n",
      " 1\n",
      "\n",
      "\n"
     ]
    }
   ],
   "source": [
    "sample_data0 = [datum for datum in train_data if len(datum[1]) < 20 and datum[-1] == 0] # negative\n",
    "sample_data1 = [datum for datum in train_data if len(datum[1]) < 20 and datum[-1] == 1] # positive\n",
    "\n",
    "# we sample 2 tuples each from positive set and negative set\n",
    "sample_data = random.sample(sample_data0, 2) + random.sample(sample_data1, 2)\n",
    "for text, tokens, indices, label in sample_data:\n",
    "    print('Text: \\n {}\\n'.format(text))\n",
    "    print('Tokens: \\n {}\\n'.format(tokens))\n",
    "    print('Indices: \\n {}\\n'.format(indices))\n",
    "    print('Label:\\n {}\\n'.format(label))\n",
    "    print()"
   ]
  },
  {
   "attachments": {},
   "cell_type": "markdown",
   "metadata": {},
   "source": [
    "## Checking the Vocabulary\n",
    "\n",
    "In the previous notebook, we discussed the need of a vocabulary for mapping words to unique integer IDs. Instead of creating the vocabulary manually, we provide you with the vocabulary. Let's have a look at some samples from the vocabulary of the dataset:"
   ]
  },
  {
   "cell_type": "code",
   "execution_count": 4,
   "metadata": {},
   "outputs": [
    {
     "name": "stdout",
     "output_type": "stream",
     "text": [
      "Vocabulary size: 5002 \n",
      "\n",
      "  Sample words\n",
      "--------------------\n",
      " connection\n",
      " smoking\n",
      " bo\n",
      " meet\n",
      " hamilton\n",
      " loneliness\n",
      " lewis\n",
      " painfully\n",
      " era\n",
      " gruesome\n"
     ]
    }
   ],
   "source": [
    "print('Vocabulary size:', len(vocab), '\\n\\n  Sample words\\n{}'.format('-' * 20))\n",
    "sample_words = random.sample(list(vocab.keys()), 10)\n",
    "for word in sample_words:\n",
    "    print(' {}'.format(word))"
   ]
  },
  {
   "attachments": {},
   "cell_type": "markdown",
   "metadata": {},
   "source": [
    "Also we saw that there are already indices in the raw data that we loaded. We can check if the indices in the vocabulary match the raw data using the last sentence in `sample_data`. Words that are not in the vocabulary are assigned to the symbol `<unk>`. The output of the following cell should be the same as the indices in the last example of our loaded raw data:"
   ]
  },
  {
   "cell_type": "code",
   "execution_count": 5,
   "metadata": {},
   "outputs": [
    {
     "name": "stdout",
     "output_type": "stream",
     "text": [
      "Text: \n",
      " Adrian Pasdar is excellent is this film. He makes a fascinating woman.\n",
      "\n",
      "Tokens: \n",
      " ['adrian', 'pasdar', 'is', 'excellent', 'is', 'this', 'film', 'he', 'makes', 'a', 'fascinating', 'woman']\n",
      "\n",
      "Indices: \n",
      " [4712, 1, 9, 203, 9, 10, 19, 46, 169, 3, 1144, 332]\n",
      "\n",
      "Label:\n",
      " 1\n",
      "\n",
      "Indices drawn from vocabulary: \n",
      " [4712, 1, 9, 203, 9, 10, 19, 46, 169, 3, 1144, 332]\n",
      "\n"
     ]
    }
   ],
   "source": [
    "# Last sample from above \n",
    "(text, tokens, indices, label) = sample_data[-1]\n",
    "print('Text: \\n {}\\n'.format(text))\n",
    "print('Tokens: \\n {}\\n'.format(tokens))\n",
    "print('Indices: \\n {}\\n'.format(indices))\n",
    "print('Label:\\n {}\\n'.format(label))\n",
    "\n",
    "# Compare with the vocabulary\n",
    "print('Indices drawn from vocabulary: \\n {}\\n'.format([vocab.get(x, vocab['<unk>']) for x in sample_data[-1][1]]))"
   ]
  },
  {
   "attachments": {},
   "cell_type": "markdown",
   "metadata": {},
   "source": [
    "## Wrapping to PyTorch Datasets\n",
    "\n",
    "Great, the raw data is loaded properly and the vocabulary is matching. Let us wrap our data in a PyTorch dataset. For more details, check out the previous notebook and the corresponding dataset class defined in `exercise_code/rnn/sentiment_dataset.py`."
   ]
  },
  {
   "cell_type": "code",
   "execution_count": 6,
   "metadata": {},
   "outputs": [],
   "source": [
    "# Define a Dataset Class for train, val and test set\n",
    "train_dataset = SentimentDataset(train_data)\n",
    "val_dataset = SentimentDataset(val_data)\n",
    "test_dataset = SentimentDataset(test_data)"
   ]
  },
  {
   "attachments": {},
   "cell_type": "markdown",
   "metadata": {},
   "source": [
    "# 2. Creating a Sentiment Classifier\n",
    "\n",
    "After we have loaded the data, it is time to define a model and start training and testing."
   ]
  },
  {
   "attachments": {},
   "cell_type": "markdown",
   "metadata": {},
   "source": [
    "## Evaluation Metrics\n",
    "\n",
    "Since we just need to predict positive or negative, we can use `binary cross-entropy loss` to train our model. And accuracy can be used to assess our model's performance. We will use the following evaluation model to compute the accuracy."
   ]
  },
  {
   "cell_type": "code",
   "execution_count": 7,
   "metadata": {},
   "outputs": [],
   "source": [
    "bce_loss = nn.BCELoss()\n",
    "\n",
    "@torch.no_grad()\n",
    "def compute_accuracy(model, data_loader):\n",
    "    corrects = 0\n",
    "    total = 0\n",
    "    device = next(model.parameters()).device\n",
    "    \n",
    "    for i, x in enumerate(data_loader):\n",
    "        input = x['data'].to(device)\n",
    "        lengths = x['lengths']\n",
    "        label = x['label'].to(device)\n",
    "        pred = model(input, lengths)\n",
    "        corrects += ((pred > 0.5) == label).sum().item()\n",
    "        total += label.numel()\n",
    "        \n",
    "        if i > 0  and i % 100 == 0:\n",
    "            print('Step {} / {}'.format(i, len(data_loader)))\n",
    "    \n",
    "    return corrects / total"
   ]
  },
  {
   "attachments": {},
   "cell_type": "markdown",
   "metadata": {},
   "source": [
    "## Step 1: Design your own model\n",
    "\n",
    "In this part, you need to create a classifier using the Embedding layers you implemented in the first notebook and LSTM. For the LSTM, you may also use the PyTorch implementation.\n",
    "\n",
    "<p class=\"aligncenter\">\n",
    "    <img src=\"images/LSTM.png\" alt=\"centered image\" />\n",
    "</p>\n",
    "\n",
    "\n",
    "\n",
    "\n",
    "<div class=\"alert alert-info\">\n",
    "    <h3>Task: Implement a Classifier</h3>\n",
    "    \n",
    "   Go to <code>exercise_code/rnn/text_classifiers.py</code> and implement the <code>RNNClassifier</code>. In the skeleton code, we inherited <code>nn.Module</code>. You can also inherit <code>LightningModule</code> if you want to use PyTorch Lightning.\n",
    "</div>\n",
    "\n",
    "This file is mostly empty but contains the expected class name, and the methods that your model needs to implement (only `forward()` basically). \n",
    "The only rules your model design has to follow are:\n",
    "* Inherit from `torch.nn.Module` or `pytorch_lightning.LightningModule`\n",
    "* Perform the forward pass in `forward()`.\n",
    "* Have less than 2 million parameters\n",
    "* Have a model size of less than 50MB after saving\n",
    "\n",
    "After you finished, edit the below cell to make sure your implementation is correct. You should define the model yourself, which should be small enough (2 Mio. parameters) and have correct output format."
   ]
  },
  {
   "cell_type": "code",
   "execution_count": 17,
   "metadata": {},
   "outputs": [
    {
     "name": "stdout",
     "output_type": "stream",
     "text": [
      "Total number of parameters: 264748\n",
      "Your model is sufficiently small :)\n",
      "All output tests are passed :)!\n"
     ]
    },
    {
     "data": {
      "text/plain": [
       "(True, True)"
      ]
     },
     "execution_count": 17,
     "metadata": {},
     "output_type": "execute_result"
    }
   ],
   "source": [
    "from exercise_code.rnn.tests import classifier_test, parameter_test\n",
    "from exercise_code.rnn.text_classifiers import RNNClassifier\n",
    "\n",
    "model = None\n",
    "\n",
    "########################################################################\n",
    "# TODO - Create a Model                                               #\n",
    "########################################################################\n",
    "model = RNNClassifier(num_embeddings=len(vocab), embedding_dim=49, hidden_size=49, use_lstm=True)\n",
    "\n",
    "########################################################################\n",
    "#                           END OF YOUR CODE                           #\n",
    "########################################################################\n",
    "\n",
    "# Check whether your model is sufficiently small and have a correct output format\n",
    "parameter_test(model), classifier_test(model, len(vocab))"
   ]
  },
  {
   "attachments": {},
   "cell_type": "markdown",
   "metadata": {},
   "source": [
    "## Step 2: Train your own model\n",
    "\n",
    "In this section, you need to train the classifier you created. Below, you can see some setup code we provided to you. Note the **collate function** used with the `DataLoader`. If you forgot why we need the collate function here, check this out in Notebook 1.\n",
    "\n",
    "You are free to change the below configs (e.g. batch size, device setting etc.) as you wish."
   ]
  },
  {
   "cell_type": "code",
   "execution_count": 18,
   "metadata": {},
   "outputs": [
    {
     "name": "stdout",
     "output_type": "stream",
     "text": [
      "Using cpu...\n",
      "\n"
     ]
    }
   ],
   "source": [
    "# Training configs\n",
    "if torch.cuda.is_available():\n",
    "    device = torch.device('cuda')\n",
    "else:\n",
    "    device = torch.device('cpu')\n",
    "\n",
    "print('Using {}...\\n'.format(device))\n",
    "\n",
    "# Move model to the device we are using\n",
    "model = model.to(device)\n",
    "\n",
    "# To tackle with the exploding gradient problem, you may want to set gclip and use clip_grad_norm_\n",
    "# see the optional notebook for the explanation\n",
    "gclip = None\n",
    "\n",
    "# Dataloaders, note the collate function\n",
    "train_loader = DataLoader(\n",
    "  train_dataset, batch_size=16, collate_fn=collate, drop_last=True\n",
    ")\n",
    "val_loader = DataLoader(\n",
    "  val_dataset, batch_size=16, collate_fn=collate, drop_last=False\n",
    ")"
   ]
  },
  {
   "attachments": {},
   "cell_type": "markdown",
   "metadata": {},
   "source": [
    "<div class=\"alert alert-info\">\n",
    "<h3>Task: Implement Training</h3>\n",
    "    <p>\n",
    "        In the below cell, you are expected to implement your training loop to train your model. You can use the training loader provided above for iterating over the data. If you want to evaluate your model periodically, you may use the validation loader provided above. You can use pure PyTorch or PyTorch Lightning.\n",
    "   </p>\n",
    "</div>\n",
    "\n",
    "**Hints :**\n",
    "* Use `torch.nn.BCELoss` as loss function\n",
    "* Revise the previous exercises if you get stuck.\n"
   ]
  },
  {
   "cell_type": "code",
   "execution_count": 19,
   "metadata": {},
   "outputs": [
    {
     "name": "stdout",
     "output_type": "stream",
     "text": [
      "Training\n",
      "Step 0 / 572, Loss 0.6335768699645996\n",
      "Step 100 / 572, Loss 0.7148572206497192\n",
      "Step 200 / 572, Loss 0.644955575466156\n",
      "Step 300 / 572, Loss 0.7032057046890259\n",
      "Step 400 / 572, Loss 0.6791538000106812\n",
      "Step 500 / 572, Loss 0.6927859783172607\n",
      "Training Loss: 0.653257388204753, Training Accuracy: 0.5963723776223776\n",
      "Evaluation\n",
      "Step 100 / 196\n",
      "Evaluation Accuracy: 0.6967762527928503\n",
      "Training\n",
      "Step 0 / 572, Loss 0.5732071399688721\n",
      "Step 100 / 572, Loss 0.5056182146072388\n",
      "Step 200 / 572, Loss 0.5992438793182373\n",
      "Step 300 / 572, Loss 0.46947237849235535\n",
      "Step 400 / 572, Loss 0.5265334248542786\n",
      "Step 500 / 572, Loss 0.4169017970561981\n",
      "Training Loss: 0.5242672490177455, Training Accuracy: 0.7399475524475524\n",
      "Evaluation\n",
      "Step 100 / 196\n",
      "Evaluation Accuracy: 0.8065751675710182\n",
      "Training\n",
      "Step 0 / 572, Loss 0.6340392827987671\n",
      "Step 100 / 572, Loss 0.3143710792064667\n",
      "Step 200 / 572, Loss 0.5879257917404175\n",
      "Step 300 / 572, Loss 0.24097071588039398\n",
      "Step 400 / 572, Loss 0.35861265659332275\n",
      "Step 500 / 572, Loss 0.3203527331352234\n",
      "Training Loss: 0.41704569866398833, Training Accuracy: 0.8137019230769231\n",
      "Evaluation\n",
      "Step 100 / 196\n",
      "Evaluation Accuracy: 0.8164698372167252\n",
      "Training\n",
      "Step 0 / 572, Loss 0.3998323380947113\n",
      "Step 100 / 572, Loss 0.4287007451057434\n",
      "Step 200 / 572, Loss 0.477863609790802\n",
      "Step 300 / 572, Loss 0.2453635036945343\n",
      "Step 400 / 572, Loss 0.305613249540329\n",
      "Step 500 / 572, Loss 0.05366721749305725\n",
      "Training Loss: 0.35183331568341153, Training Accuracy: 0.8508522727272727\n",
      "Evaluation\n",
      "Step 100 / 196\n",
      "Evaluation Accuracy: 0.8308330673475902\n",
      "Training\n",
      "Step 0 / 572, Loss 0.3764069974422455\n",
      "Step 100 / 572, Loss 0.19381681084632874\n",
      "Step 200 / 572, Loss 0.1964404582977295\n",
      "Step 300 / 572, Loss 0.24998489022254944\n",
      "Step 400 / 572, Loss 0.46365177631378174\n",
      "Step 500 / 572, Loss 0.18649519979953766\n",
      "Training Loss: 0.28453298918642367, Training Accuracy: 0.8833041958041958\n",
      "Evaluation\n",
      "Step 100 / 196\n",
      "Evaluation Accuracy: 0.8464730290456431\n",
      "Training\n",
      "Step 0 / 572, Loss 0.37140727043151855\n",
      "Step 100 / 572, Loss 0.2025381326675415\n",
      "Step 200 / 572, Loss 0.19134759902954102\n",
      "Step 300 / 572, Loss 0.45915311574935913\n",
      "Step 400 / 572, Loss 0.08347487449645996\n",
      "Step 500 / 572, Loss 0.06195203959941864\n",
      "Training Loss: 0.2448509849210667, Training Accuracy: 0.9053758741258742\n",
      "Evaluation\n",
      "Step 100 / 196\n",
      "Evaluation Accuracy: 0.8531758697733801\n",
      "Training\n",
      "Step 0 / 572, Loss 0.34189096093177795\n",
      "Step 100 / 572, Loss 0.16156622767448425\n",
      "Step 200 / 572, Loss 0.41276898980140686\n",
      "Step 300 / 572, Loss 0.3281484544277191\n",
      "Step 400 / 572, Loss 0.05071133375167847\n",
      "Step 500 / 572, Loss 0.04522407054901123\n",
      "Training Loss: 0.20686575507426022, Training Accuracy: 0.9203452797202797\n",
      "Evaluation\n",
      "Step 100 / 196\n",
      "Evaluation Accuracy: 0.8566868815831471\n",
      "Training\n",
      "Step 0 / 572, Loss 0.27526021003723145\n",
      "Step 100 / 572, Loss 0.15276330709457397\n",
      "Step 200 / 572, Loss 0.19403409957885742\n",
      "Step 300 / 572, Loss 0.2530665993690491\n",
      "Step 400 / 572, Loss 0.03159542754292488\n",
      "Step 500 / 572, Loss 0.03470475226640701\n",
      "Training Loss: 0.1571209867138064, Training Accuracy: 0.9434003496503497\n",
      "Evaluation\n",
      "Step 100 / 196\n",
      "Evaluation Accuracy: 0.8601978933929142\n",
      "Training\n",
      "Step 0 / 572, Loss 0.1572669893503189\n",
      "Step 100 / 572, Loss 0.3228953778743744\n",
      "Step 200 / 572, Loss 0.33156365156173706\n",
      "Step 300 / 572, Loss 0.4395439028739929\n",
      "Step 400 / 572, Loss 0.041252654045820236\n",
      "Step 500 / 572, Loss 0.026547884568572044\n",
      "Training Loss: 0.15773535245488937, Training Accuracy: 0.9420891608391608\n",
      "Evaluation\n",
      "Step 100 / 196\n",
      "Evaluation Accuracy: 0.8461538461538461\n",
      "Training\n",
      "Step 0 / 572, Loss 0.10173504799604416\n",
      "Step 100 / 572, Loss 0.1548592895269394\n",
      "Step 200 / 572, Loss 0.1659320741891861\n",
      "Step 300 / 572, Loss 0.18225757777690887\n",
      "Step 400 / 572, Loss 0.042787816375494\n",
      "Step 500 / 572, Loss 0.1253073364496231\n",
      "Training Loss: 0.14376330966133155, Training Accuracy: 0.947333916083916\n",
      "Evaluation\n",
      "Step 100 / 196\n",
      "Evaluation Accuracy: 0.8282796042132142\n",
      "Training\n",
      "Step 0 / 572, Loss 0.13846759498119354\n",
      "Step 100 / 572, Loss 0.13346679508686066\n",
      "Step 200 / 572, Loss 0.16097375750541687\n",
      "Step 300 / 572, Loss 0.0627073347568512\n",
      "Step 400 / 572, Loss 0.1442689448595047\n",
      "Step 500 / 572, Loss 0.034352634102106094\n",
      "Training Loss: 0.11716757432013829, Training Accuracy: 0.958041958041958\n",
      "Evaluation\n",
      "Step 100 / 196\n",
      "Evaluation Accuracy: 0.8518991382061921\n",
      "Training\n",
      "Step 0 / 572, Loss 0.07124754041433334\n",
      "Step 100 / 572, Loss 0.06761685013771057\n",
      "Step 200 / 572, Loss 0.191010519862175\n",
      "Step 300 / 572, Loss 0.023131761699914932\n",
      "Step 400 / 572, Loss 0.011335828341543674\n",
      "Step 500 / 572, Loss 0.022772166877985\n",
      "Training Loss: 0.10318129978055571, Training Accuracy: 0.9635052447552448\n",
      "Evaluation\n",
      "Step 100 / 196\n",
      "Evaluation Accuracy: 0.8490264921800191\n",
      "Training\n",
      "Step 0 / 572, Loss 0.03291245177388191\n",
      "Step 100 / 572, Loss 0.08144011348485947\n",
      "Step 200 / 572, Loss 0.16590569913387299\n",
      "Step 300 / 572, Loss 0.07616477459669113\n",
      "Step 400 / 572, Loss 0.008580383844673634\n",
      "Step 500 / 572, Loss 0.0202513188123703\n",
      "Training Loss: 0.0754217016620568, Training Accuracy: 0.9746503496503497\n",
      "Evaluation\n",
      "Step 100 / 196\n",
      "Evaluation Accuracy: 0.8544526013405681\n",
      "Training\n",
      "Step 0 / 572, Loss 0.028161736205220222\n",
      "Step 100 / 572, Loss 0.07698670774698257\n",
      "Step 200 / 572, Loss 0.32267922163009644\n",
      "Step 300 / 572, Loss 0.05001436173915863\n",
      "Step 400 / 572, Loss 0.019604559987783432\n",
      "Step 500 / 572, Loss 0.020732825621962547\n",
      "Training Loss: 0.06306415904717116, Training Accuracy: 0.9803321678321678\n",
      "Evaluation\n",
      "Step 100 / 196\n",
      "Evaluation Accuracy: 0.8576444302585381\n",
      "Training\n",
      "Step 0 / 572, Loss 0.04357992112636566\n",
      "Step 100 / 572, Loss 0.06417838484048843\n",
      "Step 200 / 572, Loss 0.3098711371421814\n",
      "Step 300 / 572, Loss 0.070126011967659\n",
      "Step 400 / 572, Loss 0.03832443431019783\n",
      "Step 500 / 572, Loss 0.007622023578733206\n",
      "Training Loss: 0.042504496739626134, Training Accuracy: 0.9878715034965035\n",
      "Evaluation\n",
      "Step 100 / 196\n",
      "Evaluation Accuracy: 0.8547717842323651\n",
      "Training\n",
      "Step 0 / 572, Loss 0.01870287023484707\n",
      "Step 100 / 572, Loss 0.035332102328538895\n",
      "Step 200 / 572, Loss 0.05992372706532478\n",
      "Step 300 / 572, Loss 0.06207016110420227\n",
      "Step 400 / 572, Loss 0.004076770041137934\n",
      "Step 500 / 572, Loss 0.004423431120812893\n",
      "Training Loss: 0.034775859134089995, Training Accuracy: 0.9902753496503497\n",
      "Evaluation\n",
      "Step 100 / 196\n",
      "Evaluation Accuracy: 0.8490264921800191\n",
      "Training\n",
      "Step 0 / 572, Loss 0.012669344432651997\n",
      "Step 100 / 572, Loss 0.04204784333705902\n",
      "Step 200 / 572, Loss 0.03158385306596756\n",
      "Step 300 / 572, Loss 0.007833701558411121\n",
      "Step 400 / 572, Loss 0.043263599276542664\n",
      "Step 500 / 572, Loss 0.0033737453632056713\n",
      "Training Loss: 0.04459640672486874, Training Accuracy: 0.9867788461538461\n",
      "Evaluation\n",
      "Step 100 / 196\n",
      "Evaluation Accuracy: 0.8464730290456431\n",
      "Training\n",
      "Step 0 / 572, Loss 0.01147955097258091\n",
      "Step 100 / 572, Loss 0.019289975985884666\n",
      "Step 200 / 572, Loss 0.17044013738632202\n",
      "Step 300 / 572, Loss 0.01189703494310379\n",
      "Step 400 / 572, Loss 0.026959769427776337\n",
      "Step 500 / 572, Loss 0.00856468640267849\n",
      "Training Loss: 0.04303255895527374, Training Accuracy: 0.9873251748251748\n",
      "Evaluation\n",
      "Step 100 / 196\n",
      "Evaluation Accuracy: 0.8477497606128311\n",
      "Training\n",
      "Step 0 / 572, Loss 0.004355151671916246\n",
      "Step 100 / 572, Loss 0.0051582977175712585\n",
      "Step 200 / 572, Loss 0.04802829772233963\n",
      "Step 300 / 572, Loss 0.021321771666407585\n",
      "Step 400 / 572, Loss 0.004109456203877926\n",
      "Step 500 / 572, Loss 0.002867193426936865\n",
      "Training Loss: 0.021023814605268216, Training Accuracy: 0.9954108391608392\n",
      "Evaluation\n",
      "Step 100 / 196\n",
      "Evaluation Accuracy: 0.8544526013405681\n",
      "Training\n",
      "Step 0 / 572, Loss 0.015680432319641113\n",
      "Step 100 / 572, Loss 0.011251071467995644\n",
      "Step 200 / 572, Loss 0.04352258890867233\n",
      "Step 300 / 572, Loss 0.03029833361506462\n",
      "Step 400 / 572, Loss 0.031068332493305206\n",
      "Step 500 / 572, Loss 0.09310007095336914\n",
      "Training Loss: 0.06246187427671436, Training Accuracy: 0.9815340909090909\n",
      "Evaluation\n",
      "Step 100 / 196\n",
      "Evaluation Accuracy: 0.8416852856686882\n"
     ]
    }
   ],
   "source": [
    "########################################################################\n",
    "#                     TODO - Train Your Model                          #\n",
    "########################################################################\n",
    "\n",
    "optimizer = torch.optim.Adam(model.parameters())\n",
    "epochs = 20\n",
    "gclip = 40\n",
    "\n",
    "for epoch in range(epochs):\n",
    "    print('Training')\n",
    "    model.train()\n",
    "\n",
    "    num_corrects = 0\n",
    "    num_labels = 0\n",
    "    total_loss = 0.0\n",
    "\n",
    "    for i, batch in enumerate(train_loader):\n",
    "        seq = batch['data'].to(device)\n",
    "        label = batch['label'].to(device)\n",
    "        seq_lens = batch['lengths']\n",
    "\n",
    "        model.zero_grad()\n",
    "\n",
    "        pred = model(seq, seq_lens)\n",
    "        loss = bce_loss(pred, label)\n",
    "        loss.backward()\n",
    "        clip_grad_norm_(model.parameters(), max_norm=gclip)\n",
    "        optimizer.step()\n",
    "\n",
    "        num_corrects += ((pred > 0.5) == label).sum().item()\n",
    "        num_labels += label.numel()\n",
    "        total_loss += loss.item() * label.numel()\n",
    "\n",
    "        if i % 100 == 0:\n",
    "            print ('Epoch {}, Step {} / {}, Loss {}'.format(epoch, i, len(train_loader), loss.item()))\n",
    "\n",
    "    print('Training Loss: {}, Training Accuracy: {}'.format(total_loss / num_labels, num_corrects / num_labels))\n",
    "\n",
    "    print('Evaluation')\n",
    "    model.eval()\n",
    "    print('Evaluation Accuracy:', compute_accuracy(model, val_loader))\n",
    "\n",
    "\n",
    "########################################################################\n",
    "#                           END OF YOUR CODE                           #\n",
    "########################################################################"
   ]
  },
  {
   "attachments": {},
   "cell_type": "markdown",
   "metadata": {},
   "source": [
    "## Testing the Model\n",
    "\n",
    "As you trained a model and improved it on the validation set, you can now test it on the test set."
   ]
  },
  {
   "cell_type": "code",
   "execution_count": 20,
   "metadata": {},
   "outputs": [
    {
     "name": "stdout",
     "output_type": "stream",
     "text": [
      "Step 100 / 386\n",
      "Step 200 / 386\n",
      "Step 300 / 386\n",
      "accuracy on test set: 0.8391177424586441\n"
     ]
    }
   ],
   "source": [
    "test_loader = DataLoader(\n",
    "  test_dataset, batch_size=8, collate_fn=collate, drop_last=False\n",
    ")\n",
    "\n",
    "print(\"accuracy on test set: {}\".format(compute_accuracy(model, test_loader)))"
   ]
  },
  {
   "attachments": {},
   "cell_type": "markdown",
   "metadata": {},
   "source": [
    "## Demo\n",
    "\n",
    "\n",
    "Now that you trained a sufficiently good sentiment classifier, run the below cell and type some text to see some predictions (type exit to quit the demo). Since we used a small data, don't expect too much :).\n",
    "<div class=\"alert alert-warning\">\n",
    "<h3>Warning!</h3>\n",
    "    <p>\n",
    "        As there is a while True loop in the cell below, you can skip this one for now and run the cell under '3. Submission' first to save your model. \n",
    "   </p>\n",
    "</div>"
   ]
  },
  {
   "cell_type": "code",
   "execution_count": 21,
   "metadata": {},
   "outputs": [
    {
     "name": "stdout",
     "output_type": "stream",
     "text": [
      "Sentiment -> :(, Confidence -> 0.968743197619915\n",
      "\n"
     ]
    }
   ],
   "source": [
    "from exercise_code.rnn.sentiment_dataset import tokenize\n",
    "\n",
    "text = ''\n",
    "w2i = vocab\n",
    "while True:\n",
    "    text = input()\n",
    "    if text == 'exit':\n",
    "        break\n",
    "\n",
    "    words = torch.tensor([\n",
    "        w2i.get(word, w2i['<unk>'])\n",
    "        for word in tokenize(text)\n",
    "    ]).long().to(device).view(-1, 1)  # T x B\n",
    "\n",
    "    pred = model(words).item()\n",
    "    sent = pred > 0.5\n",
    "    \n",
    "    print('Sentiment -> {}, Confidence -> {}'.format(\n",
    "        ':)' if sent else ':(', pred if sent else 1 - pred\n",
    "    ))\n",
    "    print()"
   ]
  },
  {
   "attachments": {},
   "cell_type": "markdown",
   "metadata": {},
   "source": [
    "# 3. Submission\n",
    "\n",
    "If you got sufficient performance on the test data, you are ready to upload your model to the [server](https://i2dl.vc.in.tum.de/submission/) . As always, let's first save your final model."
   ]
  },
  {
   "cell_type": "code",
   "execution_count": 22,
   "metadata": {},
   "outputs": [
    {
     "name": "stdout",
     "output_type": "stream",
     "text": [
      "...Your model is saved to models/rnn_classifier.p successfully!!\n"
     ]
    },
    {
     "data": {
      "text/plain": [
       "'models/rnn_classifier.p'"
      ]
     },
     "execution_count": 22,
     "metadata": {},
     "output_type": "execute_result"
    }
   ],
   "source": [
    "from exercise_code.util.save_model import save_model\n",
    "\n",
    "save_model(model, 'rnn_classifier.p')"
   ]
  },
  {
   "attachments": {},
   "cell_type": "markdown",
   "metadata": {},
   "source": [
    "Congrats, you finished the last I2DL exercise! One last time this semester, let's prepare the submission:"
   ]
  },
  {
   "cell_type": "code",
   "execution_count": 23,
   "metadata": {},
   "outputs": [
    {
     "name": "stdout",
     "output_type": "stream",
     "text": [
      "relevant folders: ['exercise_code', 'models']\n",
      "notebooks files: ['2_sentiment_analysis.ipynb', '1_text_preprocessing_and_embedding.ipynb', 'Optional-recurrent_neural_networks.ipynb']\n",
      "Adding folder exercise_code\n",
      "Adding folder models\n",
      "Adding notebook 2_sentiment_analysis.ipynb\n",
      "Adding notebook 1_text_preprocessing_and_embedding.ipynb\n",
      "Adding notebook Optional-recurrent_neural_networks.ipynb\n",
      "Zipping successful! Zip is stored under: /Users/msskzx/projects/i2dl-assignments/output/exercise11.zip\n"
     ]
    }
   ],
   "source": [
    "# Now zip the folder for upload\n",
    "from exercise_code.util.submit import submit_exercise\n",
    "\n",
    "submit_exercise('../output/exercise11')"
   ]
  },
  {
   "attachments": {},
   "cell_type": "markdown",
   "metadata": {},
   "source": [
    "# 4. Submission Instructions\n",
    "\n",
    "Congratulations! You've just built your first image classifier! To complete the exercise, submit your final model to our submission portal - you probably know the procedure by now.\n",
    "\n",
    "1. Go on [our submission page](https://i2dl.vc.in.tum.de/submission/), register for an account and login. We use your matriculation number and send an email with the login details to the mail account associated. When in doubt, login into tum-online and check your mails there. You will get an id which we need in the next step.\n",
    "2. Log into [our submission page](https://i2dl.vc.in.tum.de/submission/) with your account details and upload the zip file.\n",
    "3. Your submission will be evaluated by our system and you will get feedback about the performance of it. You will get an email with your score as well as a message if you have surpassed the threshold.\n",
    "4. Within the working period, you can submit as many solutions as you want to get the best possible score.\n",
    "\n",
    "# 5. Submission Goals\n",
    "\n",
    "- Goal: Implement and train a recurrent neural network for sentiment analysis.\n",
    "- Passing Criteria: Reach **Accuracy >= 83%** on __our__ test dataset. The submission system will show you your score after you submit.\n",
    "\n",
    "- Submission start: __July 6, 2023, 10.00__\n",
    "- Submission deadline: __July 12, 2023, 15.59__ \n",
    "- You can make **$\\infty$** submissions until the deadline. Your __best submission__ will be considered for bonus."
   ]
  },
  {
   "attachments": {},
   "cell_type": "markdown",
   "metadata": {},
   "source": [
    "# [Exercise Review](https://docs.google.com/forms/d/e/1FAIpQLSedSHEJ5vN-9FmJN-IGSQ9heDM_8qJQjHL4glgQGlrpQJEYPQ/viewform?usp=pp_url&entry.999074405=Exercise+11:+RNNs)\n",
    "\n",
    "We are always interested in your opinion. Now that you have finished this exercise, we would like you to give us some feedback about the time required to finish the submission and/or work through the notebooks. Please take the short time to fill out our [review form](https://docs.google.com/forms/d/e/1FAIpQLSedSHEJ5vN-9FmJN-IGSQ9heDM_8qJQjHL4glgQGlrpQJEYPQ/viewform?usp=pp_url&entry.999074405=Exercise+11:+RNNs) for this exercise so that we can do better next time! :)"
   ]
  }
 ],
 "metadata": {
  "kernelspec": {
   "display_name": "i2dl",
   "language": "python",
   "name": "python3"
  },
  "language_info": {
   "codemirror_mode": {
    "name": "ipython",
    "version": 3
   },
   "file_extension": ".py",
   "mimetype": "text/x-python",
   "name": "python",
   "nbconvert_exporter": "python",
   "pygments_lexer": "ipython3",
   "version": "3.9.16"
  },
  "vscode": {
   "interpreter": {
    "hash": "ae3aae73068e3f6c78354faadc00aa3f23e0713f86a27300232dd83e2bc002d8"
   }
  }
 },
 "nbformat": 4,
 "nbformat_minor": 4
}
